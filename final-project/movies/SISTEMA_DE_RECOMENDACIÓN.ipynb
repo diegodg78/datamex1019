{
 "cells": [
  {
   "cell_type": "code",
   "execution_count": 1,
   "metadata": {},
   "outputs": [],
   "source": [
    "import pandas as pd\n",
    "import numpy as np\n",
    "import seaborn as sns\n",
    "from sklearn.metrics import mean_squared_error\n",
    "from sklearn.model_selection import train_test_split\n",
    "from sklearn.neighbors import NearestNeighbors\n",
    "from sklearn.metrics.pairwise import linear_kernel\n",
    "from sklearn.metrics.pairwise import sigmoid_kernel\n",
    "from sklearn.feature_extraction.text import TfidfVectorizer\n",
    "import matplotlib.pyplot as plt\n",
    "import sklearn\n",
    "import string\n",
    "from sklearn import preprocessing"
   ]
  },
  {
   "cell_type": "code",
   "execution_count": 2,
   "metadata": {},
   "outputs": [],
   "source": [
    "movies = pd.read_csv('movies_clean.csv')\n",
    "movies.head()\n",
    "movies.drop(columns=['Unnamed: 0'],inplace=True)"
   ]
  },
  {
   "cell_type": "code",
   "execution_count": 3,
   "metadata": {},
   "outputs": [],
   "source": [
    "tfid = TfidfVectorizer(min_df=2,  max_features=None, \n",
    "            strip_accents='unicode', analyzer='word',\n",
    "            ngram_range=(1, 3), use_idf=1,smooth_idf=1,sublinear_tf=1,\n",
    "            stop_words = 'english')\n",
    "movies['Keywords'] = movies['Keywords'].fillna('')\n",
    "matriz = tfid.fit_transform(movies.Keywords)"
   ]
  },
  {
   "cell_type": "code",
   "execution_count": 4,
   "metadata": {},
   "outputs": [],
   "source": [
    "coseno = sigmoid_kernel(matriz,matriz)"
   ]
  },
  {
   "cell_type": "code",
   "execution_count": 5,
   "metadata": {},
   "outputs": [],
   "source": [
    "indices = pd.Series(movies.index, index =  movies.Title).drop_duplicates()"
   ]
  },
  {
   "cell_type": "code",
   "execution_count": 6,
   "metadata": {},
   "outputs": [],
   "source": [
    "def recomendacion (titulo, coseno = coseno,indices=indices):\n",
    "    try:\n",
    "        idx = indices[titulo]\n",
    "        score =list(enumerate(coseno[idx]))\n",
    "        score = sorted(score, key = lambda x: x[1], reverse = True)\n",
    "        score = score[1:11]\n",
    "        video = [i[0] for i in score]\n",
    "        return print(movies['Title'].iloc[video])\n",
    "    except:\n",
    "        print('I don´t recognize that title')"
   ]
  },
  {
   "cell_type": "code",
   "execution_count": null,
   "metadata": {},
   "outputs": [],
   "source": []
  },
  {
   "cell_type": "code",
   "execution_count": 7,
   "metadata": {},
   "outputs": [],
   "source": [
    "vote = movies.Votes\n",
    "rate = movies.Rate\n",
    "c = movies.Rate.mean()\n",
    "m = movies.Votes.quantile(0.7)"
   ]
  },
  {
   "cell_type": "code",
   "execution_count": 8,
   "metadata": {},
   "outputs": [],
   "source": [
    "movies['W_rate'] = (vote/(vote+m) * rate) + (m/(m+vote) * c)"
   ]
  },
  {
   "cell_type": "code",
   "execution_count": 9,
   "metadata": {},
   "outputs": [],
   "source": [
    "movies.sort_values('W_rate', ascending=False, inplace=True)\n",
    "movies = movies.reset_index(drop=True)\n"
   ]
  },
  {
   "cell_type": "code",
   "execution_count": 10,
   "metadata": {},
   "outputs": [
    {
     "data": {
      "text/plain": [
       "Text(0, 0.5, 'Movie')"
      ]
     },
     "execution_count": 10,
     "metadata": {},
     "output_type": "execute_result"
    },
    {
     "data": {
      "image/png": "[encoded data removed]",
      "text/plain": [
       "<Figure size 1152x432 with 1 Axes>"
      ]
     },
     "metadata": {
      "needs_background": "light"
     },
     "output_type": "display_data"
    }
   ],
   "source": [
    "plt.figure(figsize=(16,6))\n",
    "ax = sns.barplot(x=movies['Rate'].head(10), y=movies['Title'].head(10), data=movies, palette='deep')\n",
    "plt.xlim(6.75, 8.35)\n",
    "plt.title('Best Movies based on Votes')\n",
    "plt.xlabel('Rate')\n",
    "plt.ylabel('Movie')\n"
   ]
  },
  {
   "cell_type": "code",
   "execution_count": 11,
   "metadata": {},
   "outputs": [],
   "source": [
    "scaler = preprocessing.MinMaxScaler()\n",
    "moviesmix = scaler.fit_transform(movies[['W_rate', 'Popularity']])\n",
    "normal = pd.DataFrame(moviesmix, columns=['W_rate', 'Popularity'])"
   ]
  },
  {
   "cell_type": "code",
   "execution_count": 12,
   "metadata": {},
   "outputs": [],
   "source": [
    "movies[['Norm_W_rate', 'Norm_popularity']] = normal"
   ]
  },
  {
   "cell_type": "code",
   "execution_count": null,
   "metadata": {},
   "outputs": [],
   "source": []
  },
  {
   "cell_type": "code",
   "execution_count": 13,
   "metadata": {},
   "outputs": [],
   "source": [
    "movies['score'] = movies['Norm_W_rate'] * 0.5 + movies['Norm_popularity'] * 0.5"
   ]
  },
  {
   "cell_type": "code",
   "execution_count": 14,
   "metadata": {},
   "outputs": [],
   "source": [
    "scored = movies.sort_values(['score'], ascending=False)"
   ]
  },
  {
   "cell_type": "code",
   "execution_count": 15,
   "metadata": {},
   "outputs": [
    {
     "data": {
      "text/html": [
       "<div>\n",
       "<style scoped>\n",
       "    .dataframe tbody tr th:only-of-type {\n",
       "        vertical-align: middle;\n",
       "    }\n",
       "\n",
       "    .dataframe tbody tr th {\n",
       "        vertical-align: top;\n",
       "    }\n",
       "\n",
       "    .dataframe thead th {\n",
       "        text-align: right;\n",
       "    }\n",
       "</style>\n",
       "<table border=\"1\" class=\"dataframe\">\n",
       "  <thead>\n",
       "    <tr style=\"text-align: right;\">\n",
       "      <th></th>\n",
       "      <th>Popularity</th>\n",
       "      <th>Title</th>\n",
       "      <th>Actors</th>\n",
       "      <th>Director</th>\n",
       "      <th>Keywords</th>\n",
       "      <th>Overview</th>\n",
       "      <th>Duration</th>\n",
       "      <th>Genre</th>\n",
       "      <th>Votes</th>\n",
       "      <th>Rate</th>\n",
       "      <th>Year</th>\n",
       "      <th>W_rate</th>\n",
       "      <th>Norm_W_rate</th>\n",
       "      <th>Norm_popularity</th>\n",
       "      <th>score</th>\n",
       "    </tr>\n",
       "  </thead>\n",
       "  <tbody>\n",
       "    <tr>\n",
       "      <td>9</td>\n",
       "      <td>24.949134</td>\n",
       "      <td>Interstellar</td>\n",
       "      <td>Matthew McConaughey Jessica Chastain Anne Hath...</td>\n",
       "      <td>Christopher Nolan</td>\n",
       "      <td>saving the world artificial intelligence fathe...</td>\n",
       "      <td>Interstellar chronicles the adventures of a gr...</td>\n",
       "      <td>169</td>\n",
       "      <td>Adventure Drama Science Fiction</td>\n",
       "      <td>6498</td>\n",
       "      <td>8.0</td>\n",
       "      <td>2014</td>\n",
       "      <td>7.968099</td>\n",
       "      <td>0.912378</td>\n",
       "      <td>0.756360</td>\n",
       "      <td>0.834369</td>\n",
       "    </tr>\n",
       "    <tr>\n",
       "      <td>1140</td>\n",
       "      <td>32.985763</td>\n",
       "      <td>Jurassic World</td>\n",
       "      <td>Chris Pratt Bryce Dallas Howard Irrfan Khan Vi...</td>\n",
       "      <td>Colin Trevorrow</td>\n",
       "      <td>monster dna tyrannosaurus rex velociraptor island</td>\n",
       "      <td>Twenty-two years after the events of Jurassic ...</td>\n",
       "      <td>124</td>\n",
       "      <td>Action Adventure Science Fiction Thriller</td>\n",
       "      <td>5562</td>\n",
       "      <td>6.5</td>\n",
       "      <td>2015</td>\n",
       "      <td>6.490362</td>\n",
       "      <td>0.579389</td>\n",
       "      <td>1.000000</td>\n",
       "      <td>0.789694</td>\n",
       "    </tr>\n",
       "    <tr>\n",
       "      <td>311</td>\n",
       "      <td>28.419936</td>\n",
       "      <td>Mad Max: Fury Road</td>\n",
       "      <td>Tom Hardy Charlize Theron Hugh Keays Byrne Nic...</td>\n",
       "      <td>George Miller</td>\n",
       "      <td>future chase post apocalyptic dystopia australia</td>\n",
       "      <td>An apocalyptic story set in the furthest reach...</td>\n",
       "      <td>120</td>\n",
       "      <td>Action Adventure Science Fiction Thriller</td>\n",
       "      <td>6185</td>\n",
       "      <td>7.1</td>\n",
       "      <td>2015</td>\n",
       "      <td>7.081395</td>\n",
       "      <td>0.712571</td>\n",
       "      <td>0.861582</td>\n",
       "      <td>0.787076</td>\n",
       "    </tr>\n",
       "    <tr>\n",
       "      <td>21</td>\n",
       "      <td>14.311205</td>\n",
       "      <td>Guardians of the Galaxy</td>\n",
       "      <td>Chris Pratt Zoe Saldana Dave Bautista Vin Dies...</td>\n",
       "      <td>James Gunn</td>\n",
       "      <td>marvel comic spaceship space scene during end ...</td>\n",
       "      <td>Light years from Earth, 26 years after being a...</td>\n",
       "      <td>121</td>\n",
       "      <td>Action Science Fiction Adventure</td>\n",
       "      <td>5612</td>\n",
       "      <td>7.9</td>\n",
       "      <td>2014</td>\n",
       "      <td>7.864974</td>\n",
       "      <td>0.889140</td>\n",
       "      <td>0.433859</td>\n",
       "      <td>0.661500</td>\n",
       "    </tr>\n",
       "    <tr>\n",
       "      <td>22</td>\n",
       "      <td>12.037933</td>\n",
       "      <td>Star Wars</td>\n",
       "      <td>Mark Hamill Harrison Ford Carrie Fisher Peter ...</td>\n",
       "      <td>George Lucas</td>\n",
       "      <td>android galaxy hermit death star lightsaber</td>\n",
       "      <td>Princess Leia is captured and held hostage by ...</td>\n",
       "      <td>121</td>\n",
       "      <td>Adventure Action Science Fiction</td>\n",
       "      <td>4428</td>\n",
       "      <td>7.9</td>\n",
       "      <td>1977</td>\n",
       "      <td>7.855823</td>\n",
       "      <td>0.887078</td>\n",
       "      <td>0.364942</td>\n",
       "      <td>0.626010</td>\n",
       "    </tr>\n",
       "  </tbody>\n",
       "</table>\n",
       "</div>"
      ],
      "text/plain": [
       "      Popularity                    Title  \\\n",
       "9      24.949134             Interstellar   \n",
       "1140   32.985763           Jurassic World   \n",
       "311    28.419936       Mad Max: Fury Road   \n",
       "21     14.311205  Guardians of the Galaxy   \n",
       "22     12.037933                Star Wars   \n",
       "\n",
       "                                                 Actors           Director  \\\n",
       "9     Matthew McConaughey Jessica Chastain Anne Hath...  Christopher Nolan   \n",
       "1140  Chris Pratt Bryce Dallas Howard Irrfan Khan Vi...    Colin Trevorrow   \n",
       "311   Tom Hardy Charlize Theron Hugh Keays Byrne Nic...      George Miller   \n",
       "21    Chris Pratt Zoe Saldana Dave Bautista Vin Dies...         James Gunn   \n",
       "22    Mark Hamill Harrison Ford Carrie Fisher Peter ...       George Lucas   \n",
       "\n",
       "                                               Keywords  \\\n",
       "9     saving the world artificial intelligence fathe...   \n",
       "1140  monster dna tyrannosaurus rex velociraptor island   \n",
       "311    future chase post apocalyptic dystopia australia   \n",
       "21    marvel comic spaceship space scene during end ...   \n",
       "22          android galaxy hermit death star lightsaber   \n",
       "\n",
       "                                               Overview  Duration  \\\n",
       "9     Interstellar chronicles the adventures of a gr...       169   \n",
       "1140  Twenty-two years after the events of Jurassic ...       124   \n",
       "311   An apocalyptic story set in the furthest reach...       120   \n",
       "21    Light years from Earth, 26 years after being a...       121   \n",
       "22    Princess Leia is captured and held hostage by ...       121   \n",
       "\n",
       "                                          Genre  Votes  Rate  Year    W_rate  \\\n",
       "9               Adventure Drama Science Fiction   6498   8.0  2014  7.968099   \n",
       "1140  Action Adventure Science Fiction Thriller   5562   6.5  2015  6.490362   \n",
       "311   Action Adventure Science Fiction Thriller   6185   7.1  2015  7.081395   \n",
       "21             Action Science Fiction Adventure   5612   7.9  2014  7.864974   \n",
       "22             Adventure Action Science Fiction   4428   7.9  1977  7.855823   \n",
       "\n",
       "      Norm_W_rate  Norm_popularity     score  \n",
       "9        0.912378         0.756360  0.834369  \n",
       "1140     0.579389         1.000000  0.789694  \n",
       "311      0.712571         0.861582  0.787076  \n",
       "21       0.889140         0.433859  0.661500  \n",
       "22       0.887078         0.364942  0.626010  "
      ]
     },
     "execution_count": 15,
     "metadata": {},
     "output_type": "execute_result"
    }
   ],
   "source": [
    "scored.head()"
   ]
  },
  {
   "cell_type": "code",
   "execution_count": 16,
   "metadata": {},
   "outputs": [
    {
     "data": {
      "text/plain": [
       "Text(0, 0.5, 'Title')"
      ]
     },
     "execution_count": 16,
     "metadata": {},
     "output_type": "execute_result"
    },
    {
     "data": {
      "image/png": "[encoded data removed]",
      "text/plain": [
       "<Figure size 1152x432 with 1 Axes>"
      ]
     },
     "metadata": {
      "needs_background": "light"
     },
     "output_type": "display_data"
    }
   ],
   "source": [
    "plt.figure(figsize=(16,6))\n",
    "ax = sns.barplot(x=scored['score'].head(10), y=scored['Title'].head(10), data=scored, palette='deep')\n",
    "plt.title('Best Rated and Most Popular')\n",
    "plt.xlabel('Score')\n",
    "plt.ylabel('Title')\n"
   ]
  },
  {
   "cell_type": "code",
   "execution_count": 17,
   "metadata": {},
   "outputs": [
    {
     "data": {
      "text/html": [
       "<div>\n",
       "<style scoped>\n",
       "    .dataframe tbody tr th:only-of-type {\n",
       "        vertical-align: middle;\n",
       "    }\n",
       "\n",
       "    .dataframe tbody tr th {\n",
       "        vertical-align: top;\n",
       "    }\n",
       "\n",
       "    .dataframe thead th {\n",
       "        text-align: right;\n",
       "    }\n",
       "</style>\n",
       "<table border=\"1\" class=\"dataframe\">\n",
       "  <thead>\n",
       "    <tr style=\"text-align: right;\">\n",
       "      <th></th>\n",
       "      <th>Popularity</th>\n",
       "      <th>Duration</th>\n",
       "      <th>Votes</th>\n",
       "      <th>Rate</th>\n",
       "      <th>Year</th>\n",
       "      <th>W_rate</th>\n",
       "      <th>Norm_W_rate</th>\n",
       "      <th>Norm_popularity</th>\n",
       "      <th>score</th>\n",
       "    </tr>\n",
       "  </thead>\n",
       "  <tbody>\n",
       "    <tr>\n",
       "      <td>Popularity</td>\n",
       "      <td>1.000000</td>\n",
       "      <td>0.139033</td>\n",
       "      <td>0.800828</td>\n",
       "      <td>0.209511</td>\n",
       "      <td>0.089801</td>\n",
       "      <td>0.409327</td>\n",
       "      <td>0.409327</td>\n",
       "      <td>1.000000</td>\n",
       "      <td>0.634585</td>\n",
       "    </tr>\n",
       "    <tr>\n",
       "      <td>Duration</td>\n",
       "      <td>0.139033</td>\n",
       "      <td>1.000000</td>\n",
       "      <td>0.163278</td>\n",
       "      <td>0.156835</td>\n",
       "      <td>-0.117204</td>\n",
       "      <td>0.177072</td>\n",
       "      <td>0.177072</td>\n",
       "      <td>0.139033</td>\n",
       "      <td>0.190014</td>\n",
       "    </tr>\n",
       "    <tr>\n",
       "      <td>Votes</td>\n",
       "      <td>0.800828</td>\n",
       "      <td>0.163278</td>\n",
       "      <td>1.000000</td>\n",
       "      <td>0.253823</td>\n",
       "      <td>0.107948</td>\n",
       "      <td>0.494983</td>\n",
       "      <td>0.494983</td>\n",
       "      <td>0.800828</td>\n",
       "      <td>0.649808</td>\n",
       "    </tr>\n",
       "    <tr>\n",
       "      <td>Rate</td>\n",
       "      <td>0.209511</td>\n",
       "      <td>0.156835</td>\n",
       "      <td>0.253823</td>\n",
       "      <td>1.000000</td>\n",
       "      <td>-0.117632</td>\n",
       "      <td>0.777415</td>\n",
       "      <td>0.777415</td>\n",
       "      <td>0.209511</td>\n",
       "      <td>0.718832</td>\n",
       "    </tr>\n",
       "    <tr>\n",
       "      <td>Year</td>\n",
       "      <td>0.089801</td>\n",
       "      <td>-0.117204</td>\n",
       "      <td>0.107948</td>\n",
       "      <td>-0.117632</td>\n",
       "      <td>1.000000</td>\n",
       "      <td>-0.089427</td>\n",
       "      <td>-0.089427</td>\n",
       "      <td>0.089801</td>\n",
       "      <td>-0.049901</td>\n",
       "    </tr>\n",
       "    <tr>\n",
       "      <td>W_rate</td>\n",
       "      <td>0.409327</td>\n",
       "      <td>0.177072</td>\n",
       "      <td>0.494983</td>\n",
       "      <td>0.777415</td>\n",
       "      <td>-0.089427</td>\n",
       "      <td>1.000000</td>\n",
       "      <td>1.000000</td>\n",
       "      <td>0.409327</td>\n",
       "      <td>0.964895</td>\n",
       "    </tr>\n",
       "    <tr>\n",
       "      <td>Norm_W_rate</td>\n",
       "      <td>0.409327</td>\n",
       "      <td>0.177072</td>\n",
       "      <td>0.494983</td>\n",
       "      <td>0.777415</td>\n",
       "      <td>-0.089427</td>\n",
       "      <td>1.000000</td>\n",
       "      <td>1.000000</td>\n",
       "      <td>0.409327</td>\n",
       "      <td>0.964895</td>\n",
       "    </tr>\n",
       "    <tr>\n",
       "      <td>Norm_popularity</td>\n",
       "      <td>1.000000</td>\n",
       "      <td>0.139033</td>\n",
       "      <td>0.800828</td>\n",
       "      <td>0.209511</td>\n",
       "      <td>0.089801</td>\n",
       "      <td>0.409327</td>\n",
       "      <td>0.409327</td>\n",
       "      <td>1.000000</td>\n",
       "      <td>0.634585</td>\n",
       "    </tr>\n",
       "    <tr>\n",
       "      <td>score</td>\n",
       "      <td>0.634585</td>\n",
       "      <td>0.190014</td>\n",
       "      <td>0.649808</td>\n",
       "      <td>0.718832</td>\n",
       "      <td>-0.049901</td>\n",
       "      <td>0.964895</td>\n",
       "      <td>0.964895</td>\n",
       "      <td>0.634585</td>\n",
       "      <td>1.000000</td>\n",
       "    </tr>\n",
       "  </tbody>\n",
       "</table>\n",
       "</div>"
      ],
      "text/plain": [
       "                 Popularity  Duration     Votes      Rate      Year    W_rate  \\\n",
       "Popularity         1.000000  0.139033  0.800828  0.209511  0.089801  0.409327   \n",
       "Duration           0.139033  1.000000  0.163278  0.156835 -0.117204  0.177072   \n",
       "Votes              0.800828  0.163278  1.000000  0.253823  0.107948  0.494983   \n",
       "Rate               0.209511  0.156835  0.253823  1.000000 -0.117632  0.777415   \n",
       "Year               0.089801 -0.117204  0.107948 -0.117632  1.000000 -0.089427   \n",
       "W_rate             0.409327  0.177072  0.494983  0.777415 -0.089427  1.000000   \n",
       "Norm_W_rate        0.409327  0.177072  0.494983  0.777415 -0.089427  1.000000   \n",
       "Norm_popularity    1.000000  0.139033  0.800828  0.209511  0.089801  0.409327   \n",
       "score              0.634585  0.190014  0.649808  0.718832 -0.049901  0.964895   \n",
       "\n",
       "                 Norm_W_rate  Norm_popularity     score  \n",
       "Popularity          0.409327         1.000000  0.634585  \n",
       "Duration            0.177072         0.139033  0.190014  \n",
       "Votes               0.494983         0.800828  0.649808  \n",
       "Rate                0.777415         0.209511  0.718832  \n",
       "Year               -0.089427         0.089801 -0.049901  \n",
       "W_rate              1.000000         0.409327  0.964895  \n",
       "Norm_W_rate         1.000000         0.409327  0.964895  \n",
       "Norm_popularity     0.409327         1.000000  0.634585  \n",
       "score               0.964895         0.634585  1.000000  "
      ]
     },
     "execution_count": 17,
     "metadata": {},
     "output_type": "execute_result"
    }
   ],
   "source": [
    "movies.corr()"
   ]
  },
  {
   "cell_type": "code",
   "execution_count": 19,
   "metadata": {},
   "outputs": [
    {
     "name": "stdout",
     "output_type": "stream",
     "text": [
      "8092                   Staten Island Summer\n",
      "8818                              7 Minutes\n",
      "2511                       The Sand Pebbles\n",
      "7870                              DÃ¨moni 2\n",
      "9163    Behind Enemy Lines II: Axis of Evil\n",
      "0                  The Shawshank Redemption\n",
      "3147                          Hang 'em High\n",
      "1513                    Conan the Barbarian\n",
      "202                                 Birdman\n",
      "5137                      A Christmas Carol\n",
      "Name: Title, dtype: object\n"
     ]
    }
   ],
   "source": [
    "recomendacion('Jurassic Park')"
   ]
  },
  {
   "cell_type": "code",
   "execution_count": null,
   "metadata": {},
   "outputs": [],
   "source": []
  },
  {
   "cell_type": "code",
   "execution_count": null,
   "metadata": {},
   "outputs": [],
   "source": []
  },
  {
   "cell_type": "code",
   "execution_count": null,
   "metadata": {},
   "outputs": [],
   "source": []
  },
  {
   "cell_type": "code",
   "execution_count": null,
   "metadata": {},
   "outputs": [],
   "source": []
  },
  {
   "cell_type": "code",
   "execution_count": null,
   "metadata": {},
   "outputs": [],
   "source": []
  },
  {
   "cell_type": "code",
   "execution_count": null,
   "metadata": {},
   "outputs": [],
   "source": []
  },
  {
   "cell_type": "code",
   "execution_count": null,
   "metadata": {},
   "outputs": [],
   "source": []
  }
 ],
 "metadata": {
  "kernelspec": {
   "display_name": "Python 3",
   "language": "python",
   "name": "python3"
  },
  "language_info": {
   "codemirror_mode": {
    "name": "ipython",
    "version": 3
   },
   "file_extension": ".py",
   "mimetype": "text/x-python",
   "name": "python",
   "nbconvert_exporter": "python",
   "pygments_lexer": "ipython3",
   "version": "3.7.4"
  }
 },
 "nbformat": 4,
 "nbformat_minor": 2
}
